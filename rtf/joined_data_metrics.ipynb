{
 "cells": [
  {
   "cell_type": "code",
   "execution_count": 1,
   "metadata": {
    "ExecuteTime": {
     "end_time": "2023-04-20T20:08:23.952780Z",
     "start_time": "2023-04-20T20:08:22.726139Z"
    },
    "collapsed": true
   },
   "outputs": [],
   "source": [
    "import polars as pl"
   ]
  },
  {
   "cell_type": "code",
   "execution_count": 57,
   "metadata": {
    "ExecuteTime": {
     "end_time": "2023-04-20T22:20:19.508645Z",
     "start_time": "2023-04-20T22:20:19.485566Z"
    },
    "collapsed": false
   },
   "outputs": [
    {
     "name": "stdout",
     "output_type": "stream",
     "text": [
      "missing comments: 319\n"
     ]
    }
   ],
   "source": [
    "df = pl.read_csv('joined_data.csv')\n",
    "missing_count = df['No. Comments'].is_null().sum()\n",
    "print(f\"missing comments: {missing_count}\")"
   ]
  },
  {
   "cell_type": "code",
   "execution_count": 56,
   "metadata": {
    "ExecuteTime": {
     "end_time": "2023-04-20T22:18:43.278700Z",
     "start_time": "2023-04-20T22:18:43.245274Z"
    },
    "collapsed": false
   },
   "outputs": [
    {
     "data": {
      "text/html": [
       "<div><style>\n",
       ".dataframe > thead > tr > th,\n",
       ".dataframe > tbody > tr > td {\n",
       "  text-align: right;\n",
       "}\n",
       "</style>\n",
       "<small>shape: (319, 18)</small><table border=\"1\" class=\"dataframe\"><thead><tr><th>Deal ID</th><th>Seller</th><th>Buyer</th><th>Designation</th><th>Description</th><th>Armament category</th><th>Order date</th><th>Order date is estimate</th><th>Numbers delivered</th><th>Numbers delivered is estimate</th><th>Delivery year</th><th>Delivery year is estimate</th><th>Status</th><th>SIPRI estimate</th><th>TIV deal unit</th><th>TIV delivery values</th><th>Local production</th><th>No. Comments</th></tr><tr><td>i64</td><td>str</td><td>str</td><td>str</td><td>str</td><td>str</td><td>i64</td><td>str</td><td>i64</td><td>str</td><td>i64</td><td>str</td><td>str</td><td>f64</td><td>f64</td><td>f64</td><td>str</td><td>str</td></tr></thead><tbody><tr><td>60486</td><td>&quot;United States&quot;</td><td>&quot;Saudi Arabia&quot;</td><td>&quot;CH-47F Chinook...</td><td>&quot;transport heli...</td><td>&quot;Aircraft&quot;</td><td>2017</td><td>&quot;No&quot;</td><td>8</td><td>&quot;Yes&quot;</td><td>2022</td><td>&quot;No&quot;</td><td>&quot;New&quot;</td><td>20.0</td><td>20.0</td><td>160.0</td><td>&quot;No&quot;</td><td>null</td></tr><tr><td>62125</td><td>&quot;Spain&quot;</td><td>&quot;Thailand&quot;</td><td>&quot;Lanza-LRR&quot;</td><td>&quot;air search rad...</td><td>&quot;Sensors&quot;</td><td>2018</td><td>&quot;No&quot;</td><td>1</td><td>&quot;Yes&quot;</td><td>2022</td><td>&quot;Yes&quot;</td><td>&quot;New&quot;</td><td>13.0</td><td>13.0</td><td>13.0</td><td>&quot;No&quot;</td><td>null</td></tr><tr><td>65511</td><td>&quot;Portugal&quot;</td><td>&quot;Ukraine&quot;</td><td>&quot;VM-90P&quot;</td><td>&quot;APC&quot;</td><td>&quot;Armoured vehic...</td><td>2022</td><td>&quot;No&quot;</td><td>4</td><td>&quot;No&quot;</td><td>2022</td><td>&quot;No&quot;</td><td>&quot;Second hand&quot;</td><td>0.11</td><td>0.044</td><td>0.176</td><td>&quot;No&quot;</td><td>null</td></tr><tr><td>65340</td><td>&quot;unknown suppli...</td><td>&quot;Antigua and Ba...</td><td>&quot;BN-2 Islander&quot;</td><td>&quot;light transpor...</td><td>&quot;Aircraft&quot;</td><td>2021</td><td>&quot;No&quot;</td><td>1</td><td>&quot;No&quot;</td><td>2022</td><td>&quot;No&quot;</td><td>&quot;Second hand&quot;</td><td>0.6</td><td>0.24</td><td>0.24</td><td>&quot;No&quot;</td><td>null</td></tr><tr><td>65217</td><td>&quot;Russia&quot;</td><td>&quot;Armenia&quot;</td><td>&quot;Mi-8MT/Mi-17&quot;</td><td>&quot;transport heli...</td><td>&quot;Aircraft&quot;</td><td>2020</td><td>&quot;Yes&quot;</td><td>4</td><td>&quot;No&quot;</td><td>2022</td><td>&quot;No&quot;</td><td>&quot;New&quot;</td><td>6.75</td><td>6.75</td><td>27.0</td><td>&quot;No&quot;</td><td>null</td></tr><tr><td>65369</td><td>&quot;United States&quot;</td><td>&quot;Bahrain&quot;</td><td>&quot;Cyclone&quot;</td><td>&quot;patrol craft&quot;</td><td>&quot;Ships&quot;</td><td>2021</td><td>&quot;Yes&quot;</td><td>5</td><td>&quot;No&quot;</td><td>2022</td><td>&quot;No&quot;</td><td>&quot;Second hand&quot;</td><td>21.5</td><td>8.6</td><td>43.0</td><td>&quot;No&quot;</td><td>null</td></tr><tr><td>60827</td><td>&quot;United States&quot;</td><td>&quot;Croatia&quot;</td><td>&quot;S-70 Black Haw...</td><td>&quot;transport heli...</td><td>&quot;Aircraft&quot;</td><td>2018</td><td>&quot;No&quot;</td><td>2</td><td>&quot;No&quot;</td><td>2022</td><td>&quot;No&quot;</td><td>&quot;New&quot;</td><td>7.25</td><td>7.25</td><td>14.5</td><td>&quot;No&quot;</td><td>null</td></tr><tr><td>65521</td><td>&quot;unknown suppli...</td><td>&quot;India&quot;</td><td>&quot;vehicle engine...</td><td>&quot;vehicle engine...</td><td>&quot;Engines&quot;</td><td>2019</td><td>&quot;Yes&quot;</td><td>6</td><td>&quot;Yes&quot;</td><td>2022</td><td>&quot;No&quot;</td><td>&quot;New&quot;</td><td>0.08</td><td>0.08</td><td>0.48</td><td>&quot;No&quot;</td><td>null</td></tr><tr><td>63700</td><td>&quot;United States&quot;</td><td>&quot;Malaysia&quot;</td><td>&quot;APS-143(V)&quot;</td><td>&quot;MP aircraft ra...</td><td>&quot;Sensors&quot;</td><td>2020</td><td>&quot;No&quot;</td><td>3</td><td>&quot;Yes&quot;</td><td>2022</td><td>&quot;No&quot;</td><td>&quot;New&quot;</td><td>2.5</td><td>2.5</td><td>7.5</td><td>&quot;No&quot;</td><td>null</td></tr><tr><td>64836</td><td>&quot;India&quot;</td><td>&quot;Mauritius&quot;</td><td>&quot;Dhruv&quot;</td><td>&quot;helicopter&quot;</td><td>&quot;Aircraft&quot;</td><td>2021</td><td>&quot;No&quot;</td><td>1</td><td>&quot;No&quot;</td><td>2022</td><td>&quot;No&quot;</td><td>&quot;Second hand&quot;</td><td>4.5</td><td>1.8</td><td>1.8</td><td>&quot;No&quot;</td><td>null</td></tr><tr><td>63603</td><td>&quot;United States&quot;</td><td>&quot;Peru&quot;</td><td>&quot;Boeing-737 Cla...</td><td>&quot;transport airc...</td><td>&quot;Aircraft&quot;</td><td>2021</td><td>&quot;No&quot;</td><td>1</td><td>&quot;No&quot;</td><td>2022</td><td>&quot;No&quot;</td><td>&quot;Second hand&quot;</td><td>33.0</td><td>13.2</td><td>13.2</td><td>&quot;No&quot;</td><td>null</td></tr><tr><td>65232</td><td>&quot;United States&quot;</td><td>&quot;Philippines&quot;</td><td>&quot;Cessna-172&quot;</td><td>&quot;trainer/light ...</td><td>&quot;Aircraft&quot;</td><td>2021</td><td>&quot;Yes&quot;</td><td>4</td><td>&quot;No&quot;</td><td>2022</td><td>&quot;No&quot;</td><td>&quot;New&quot;</td><td>0.1</td><td>0.1</td><td>0.4</td><td>&quot;No&quot;</td><td>null</td></tr><tr><td>...</td><td>...</td><td>...</td><td>...</td><td>...</td><td>...</td><td>...</td><td>...</td><td>...</td><td>...</td><td>...</td><td>...</td><td>...</td><td>...</td><td>...</td><td>...</td><td>...</td><td>...</td></tr><tr><td>65586</td><td>&quot;South Korea&quot;</td><td>&quot;Ukraine&quot;</td><td>&quot;K-9&quot;</td><td>&quot;self-propelled...</td><td>&quot;Armoured vehic...</td><td>2022</td><td>&quot;No&quot;</td><td>5</td><td>&quot;Yes&quot;</td><td>2022</td><td>&quot;Yes&quot;</td><td>&quot;New&quot;</td><td>0.59</td><td>0.59</td><td>2.95</td><td>&quot;No&quot;</td><td>null</td></tr><tr><td>65585</td><td>&quot;Germany&quot;</td><td>&quot;Ukraine&quot;</td><td>&quot;vehicle engine...</td><td>&quot;vehicle engine...</td><td>&quot;Engines&quot;</td><td>2022</td><td>&quot;No&quot;</td><td>5</td><td>&quot;Yes&quot;</td><td>2022</td><td>&quot;Yes&quot;</td><td>&quot;New&quot;</td><td>0.16</td><td>0.16</td><td>0.8</td><td>&quot;No&quot;</td><td>null</td></tr><tr><td>66009</td><td>&quot;Italy&quot;</td><td>&quot;Ukraine&quot;</td><td>&quot;LMV&quot;</td><td>&quot;APV&quot;</td><td>&quot;Armoured vehic...</td><td>2022</td><td>&quot;No&quot;</td><td>10</td><td>&quot;Yes&quot;</td><td>2022</td><td>&quot;No&quot;</td><td>&quot;Second hand&quot;</td><td>0.15</td><td>0.06</td><td>0.6</td><td>&quot;No&quot;</td><td>null</td></tr><tr><td>66080</td><td>&quot;Italy&quot;</td><td>&quot;Ukraine&quot;</td><td>&quot;M-270 MLRS 227...</td><td>&quot;self-propelled...</td><td>&quot;Artillery&quot;</td><td>2022</td><td>&quot;No&quot;</td><td>2</td><td>&quot;No&quot;</td><td>2022</td><td>&quot;Yes&quot;</td><td>&quot;Second hand&quot;</td><td>1.2</td><td>0.48</td><td>0.96</td><td>&quot;No&quot;</td><td>null</td></tr><tr><td>65871</td><td>&quot;Canada&quot;</td><td>&quot;Malawi&quot;</td><td>&quot;aircraft engin...</td><td>&quot;aircraft engin...</td><td>&quot;Engines&quot;</td><td>2021</td><td>&quot;Yes&quot;</td><td>4</td><td>&quot;No&quot;</td><td>2022</td><td>&quot;No&quot;</td><td>&quot;New&quot;</td><td>0.75</td><td>0.75</td><td>3.0</td><td>&quot;No&quot;</td><td>null</td></tr><tr><td>65598</td><td>&quot;Israel&quot;</td><td>&quot;El Salvador&quot;</td><td>&quot;SandCat&quot;</td><td>&quot;APV&quot;</td><td>&quot;Armoured vehic...</td><td>2022</td><td>&quot;No&quot;</td><td>5</td><td>&quot;Yes&quot;</td><td>2022</td><td>&quot;No&quot;</td><td>&quot;New&quot;</td><td>0.14</td><td>0.14</td><td>0.7</td><td>&quot;No&quot;</td><td>null</td></tr><tr><td>66288</td><td>&quot;Czechia&quot;</td><td>&quot;Ukraine&quot;</td><td>&quot;One 150&quot;</td><td>&quot;UAV&quot;</td><td>&quot;Aircraft&quot;</td><td>2022</td><td>&quot;No&quot;</td><td>6</td><td>&quot;No&quot;</td><td>2022</td><td>&quot;No&quot;</td><td>&quot;New&quot;</td><td>0.2</td><td>0.2</td><td>1.2</td><td>&quot;No&quot;</td><td>null</td></tr><tr><td>66167</td><td>&quot;Russia&quot;</td><td>&quot;Togo&quot;</td><td>&quot;Mi-35M&quot;</td><td>&quot;combat helicop...</td><td>&quot;Aircraft&quot;</td><td>2021</td><td>&quot;Yes&quot;</td><td>3</td><td>&quot;Yes&quot;</td><td>2022</td><td>&quot;No&quot;</td><td>&quot;New&quot;</td><td>11.5</td><td>11.5</td><td>34.5</td><td>&quot;No&quot;</td><td>null</td></tr><tr><td>66297</td><td>&quot;China&quot;</td><td>&quot;Ethiopia&quot;</td><td>&quot;SH-15 155mm&quot;</td><td>&quot;self-propelled...</td><td>&quot;Artillery&quot;</td><td>2021</td><td>&quot;Yes&quot;</td><td>32</td><td>&quot;Yes&quot;</td><td>2022</td><td>&quot;Yes&quot;</td><td>&quot;New&quot;</td><td>1.1</td><td>1.1</td><td>35.2</td><td>&quot;No&quot;</td><td>null</td></tr><tr><td>64314</td><td>&quot;Italy&quot;</td><td>&quot;Bangladesh&quot;</td><td>&quot;Falco&quot;</td><td>&quot;UAV&quot;</td><td>&quot;Aircraft&quot;</td><td>2020</td><td>&quot;Yes&quot;</td><td>3</td><td>&quot;Yes&quot;</td><td>2022</td><td>&quot;Yes&quot;</td><td>&quot;New&quot;</td><td>0.2</td><td>0.2</td><td>0.6</td><td>&quot;No&quot;</td><td>null</td></tr><tr><td>66303</td><td>&quot;Turkiye&quot;</td><td>&quot;Burkina Faso&quot;</td><td>&quot;Ejder&quot;</td><td>&quot;APC&quot;</td><td>&quot;Armoured vehic...</td><td>2022</td><td>&quot;Yes&quot;</td><td>4</td><td>&quot;Yes&quot;</td><td>2022</td><td>&quot;No&quot;</td><td>&quot;New&quot;</td><td>0.3</td><td>0.3</td><td>1.2</td><td>&quot;No&quot;</td><td>null</td></tr><tr><td>66305</td><td>&quot;China&quot;</td><td>&quot;Benin&quot;</td><td>&quot;CSK-131&quot;</td><td>&quot;APC/APV&quot;</td><td>&quot;Armoured vehic...</td><td>2022</td><td>&quot;Yes&quot;</td><td>6</td><td>&quot;Yes&quot;</td><td>2022</td><td>&quot;Yes&quot;</td><td>&quot;New&quot;</td><td>0.14</td><td>0.14</td><td>0.84</td><td>&quot;No&quot;</td><td>null</td></tr></tbody></table></div>"
      ],
      "text/plain": [
       "shape: (319, 18)\n",
       "┌─────────┬─────────┬────────┬───────────┬─────┬────────────┬────────────┬────────────┬────────────┐\n",
       "│ Deal ID ┆ Seller  ┆ Buyer  ┆ Designati ┆ ... ┆ TIV deal   ┆ TIV        ┆ Local      ┆ No.        │\n",
       "│ ---     ┆ ---     ┆ ---    ┆ on        ┆     ┆ unit       ┆ delivery   ┆ production ┆ Comments   │\n",
       "│ i64     ┆ str     ┆ str    ┆ ---       ┆     ┆ ---        ┆ values     ┆ ---        ┆ ---        │\n",
       "│         ┆         ┆        ┆ str       ┆     ┆ f64        ┆ ---        ┆ str        ┆ str        │\n",
       "│         ┆         ┆        ┆           ┆     ┆            ┆ f64        ┆            ┆            │\n",
       "╞═════════╪═════════╪════════╪═══════════╪═════╪════════════╪════════════╪════════════╪════════════╡\n",
       "│ 60486   ┆ United  ┆ Saudi  ┆ CH-47F    ┆ ... ┆ 20.0       ┆ 160.0      ┆ No         ┆ null       │\n",
       "│         ┆ States  ┆ Arabia ┆ Chinook   ┆     ┆            ┆            ┆            ┆            │\n",
       "│ 62125   ┆ Spain   ┆ Thaila ┆ Lanza-LRR ┆ ... ┆ 13.0       ┆ 13.0       ┆ No         ┆ null       │\n",
       "│         ┆         ┆ nd     ┆           ┆     ┆            ┆            ┆            ┆            │\n",
       "│ 65511   ┆ Portuga ┆ Ukrain ┆ VM-90P    ┆ ... ┆ 0.044      ┆ 0.176      ┆ No         ┆ null       │\n",
       "│         ┆ l       ┆ e      ┆           ┆     ┆            ┆            ┆            ┆            │\n",
       "│ 65340   ┆ unknown ┆ Antigu ┆ BN-2      ┆ ... ┆ 0.24       ┆ 0.24       ┆ No         ┆ null       │\n",
       "│         ┆ supplie ┆ a and  ┆ Islander  ┆     ┆            ┆            ┆            ┆            │\n",
       "│         ┆ r(s)    ┆ Barbud ┆           ┆     ┆            ┆            ┆            ┆            │\n",
       "│         ┆         ┆ a      ┆           ┆     ┆            ┆            ┆            ┆            │\n",
       "│ ...     ┆ ...     ┆ ...    ┆ ...       ┆ ... ┆ ...        ┆ ...        ┆ ...        ┆ ...        │\n",
       "│ 66297   ┆ China   ┆ Ethiop ┆ SH-15     ┆ ... ┆ 1.1        ┆ 35.2       ┆ No         ┆ null       │\n",
       "│         ┆         ┆ ia     ┆ 155mm     ┆     ┆            ┆            ┆            ┆            │\n",
       "│ 64314   ┆ Italy   ┆ Bangla ┆ Falco     ┆ ... ┆ 0.2        ┆ 0.6        ┆ No         ┆ null       │\n",
       "│         ┆         ┆ desh   ┆           ┆     ┆            ┆            ┆            ┆            │\n",
       "│ 66303   ┆ Turkiye ┆ Burkin ┆ Ejder     ┆ ... ┆ 0.3        ┆ 1.2        ┆ No         ┆ null       │\n",
       "│         ┆         ┆ a Faso ┆           ┆     ┆            ┆            ┆            ┆            │\n",
       "│ 66305   ┆ China   ┆ Benin  ┆ CSK-131   ┆ ... ┆ 0.14       ┆ 0.84       ┆ No         ┆ null       │\n",
       "└─────────┴─────────┴────────┴───────────┴─────┴────────────┴────────────┴────────────┴────────────┘"
      ]
     },
     "execution_count": 56,
     "metadata": {},
     "output_type": "execute_result"
    }
   ],
   "source": [
    "filtered_df = df.filter(pl.col('No. Comments').is_null())\n",
    "filtered_df"
   ]
  },
  {
   "cell_type": "code",
   "execution_count": 45,
   "metadata": {
    "ExecuteTime": {
     "end_time": "2023-04-20T21:54:00.250686Z",
     "start_time": "2023-04-20T21:54:00.237674Z"
    },
    "collapsed": false
   },
   "outputs": [
    {
     "name": "stdout",
     "output_type": "stream",
     "text": [
      "233\n",
      "é\n"
     ]
    }
   ],
   "source": [
    "\n",
    "s = r'0233?'\n",
    "#print(s.encode().decode('unicode_escape').encode('utf8').decode())\n",
    "s.encode(\"ascii\").decode(\"utf-8\")\n",
    "print(ord('é'))\n",
    "print(chr(int(\"0233\")))"
   ]
  },
  {
   "cell_type": "code",
   "execution_count": null,
   "metadata": {
    "collapsed": false
   },
   "outputs": [],
   "source": []
  }
 ],
 "metadata": {
  "kernelspec": {
   "display_name": "Python 3",
   "language": "python",
   "name": "python3"
  },
  "language_info": {
   "codemirror_mode": {
    "name": "ipython",
    "version": 2
   },
   "file_extension": ".py",
   "mimetype": "text/x-python",
   "name": "python",
   "nbconvert_exporter": "python",
   "pygments_lexer": "ipython2",
   "version": "3.13.0"
  }
 },
 "nbformat": 4,
 "nbformat_minor": 0
}
