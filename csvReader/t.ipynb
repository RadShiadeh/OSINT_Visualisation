{
 "cells": [
  {
   "cell_type": "code",
   "execution_count": 10,
   "metadata": {},
   "outputs": [],
   "source": [
    "import polars as pl\n",
    "import pandas as pd\n",
    "\n",
    "def read_csv_data(filename: str) -> pl.DataFrame:\n",
    "        # read the column names from the file\n",
    "        with open(filename, 'r') as file:\n",
    "            for _ in range(5):\n",
    "                file.readline()\n",
    "            column_names = file.readline().strip().split(';')\n",
    "\n",
    "        # read the data into a polars dataframe\n",
    "        df = pl.read_csv(filename, skip_rows=5, separator=';', skip_rows_after_header=2, encoding=\"ISO-8859-1\", ignore_errors=True)\n",
    "\n",
    "        return df\n",
    "\n",
    "def read_csv_data_(filename: str) -> pd.DataFrame:\n",
    "        # read the column names from the file\n",
    "        with open(filename, 'r') as file:\n",
    "            for _ in range(5):\n",
    "                file.readline()\n",
    "            column_names = file.readline().strip().split(';')\n",
    "\n",
    "        # read the data into a polars dataframe\n",
    "        df_pd = pd.read_csv(filename, skiprows=5, delimiter=';', skipfooter=2, engine='python', encoding=\"ISO-8859-1\")\n",
    "\n",
    "        return df_pd"
   ]
  },
  {
   "cell_type": "code",
   "execution_count": 11,
   "metadata": {},
   "outputs": [
    {
     "name": "stdout",
     "output_type": "stream",
     "text": [
      "['Deal ID', 'Seller', 'Buyer', 'Designation', 'Description', 'Armament category', 'Order date', 'Order date is estimate', 'Numbers delivered', 'Numbers delivered is estimate', 'Delivery year', 'Delivery year is estimate', 'Status', 'SIPRI estimate', 'TIV deal unit', 'TIV delivery values', 'Local production']\n"
     ]
    }
   ],
   "source": [
    "print(read_csv_data(\"DealsAndTIVs-2023-03-11-16_22_41 (1).txt\").columns)"
   ]
  },
  {
   "cell_type": "code",
   "execution_count": 12,
   "metadata": {},
   "outputs": [
    {
     "name": "stdout",
     "output_type": "stream",
     "text": [
      "Index(['Deal ID', 'Seller', 'Buyer', 'Designation', 'Description',\n",
      "       'Armament category', 'Order date', 'Order date is estimate',\n",
      "       'Numbers delivered', 'Numbers delivered is estimate', 'Delivery year',\n",
      "       'Delivery year is estimate', 'Status', 'SIPRI estimate',\n",
      "       'TIV deal unit', 'TIV delivery values', 'Local production'],\n",
      "      dtype='object')\n",
      "[ True  True  True  True  True  True  True  True  True  True  True  True\n",
      "  True  True  True  True  True]\n"
     ]
    }
   ],
   "source": [
    "print(read_csv_data_(\"DealsAndTIVs-2023-03-11-16_22_41 (1).txt\").columns\n",
    "          )\n",
    "\n",
    "cols_pd = read_csv_data_(\"DealsAndTIVs-2023-03-11-16_22_41 (1).txt\").columns\n",
    "cols_pl = read_csv_data(\"DealsAndTIVs-2023-03-11-16_22_41 (1).txt\").columns\n",
    "\n",
    "print(cols_pl == cols_pd)"
   ]
  },
  {
   "cell_type": "code",
   "execution_count": 13,
   "metadata": {},
   "outputs": [],
   "source": [
    "import re\n",
    "\n",
    "\n",
    "def read_csv_data(filename: str) -> pl.DataFrame:\n",
    "        # read the column names from the file\n",
    "        # with open(filename, 'r') as file:\n",
    "        #     for _ in range(5):\n",
    "        #         file.readline()\n",
    "        #     column_names = file.readline().strip().split(';')\n",
    "\n",
    "        # read the data into a polars dataframe\n",
    "        df = pl.read_csv(filename, skip_rows=5, separator=';', skip_rows_after_header=2, encoding=\"ISO-8859-1\", ignore_errors=True) #errors cause no actual issues\n",
    "\n",
    "        return df\n",
    "\n",
    "\n",
    "def replace_unicode_chars(df: pl.DataFrame, col_name: str) -> pl.Series:\n",
    "    # Get the column to be iterated\n",
    "    col = df[col_name]\n",
    "    regex = re.compile(r\"\\\\u(\\d+)\\?\")\n",
    "    # Iterate through each row in the column\n",
    "    for i, val in enumerate(col):\n",
    "        # Check if the value contains a unicode character\n",
    "        match = regex.search(val)\n",
    "        if match:\n",
    "            # Extract the unicode character code from the string\n",
    "            hex_code = val.split(\"\\\\u\")[1].split(\"?\")[0]\n",
    "            # Convert the hex code to an integer and then to its corresponding unicode character\n",
    "            char = chr(int(hex_code))\n",
    "\n",
    "            # Replace the original value with the new value containing the unicode character\n",
    "            col[i] = val.replace(match.group(), char)\n",
    "\n",
    "    return col\n",
    "\n",
    "\n",
    "def strip_strings(x: str) -> str:\n",
    "    if isinstance(x, str):\n",
    "        return x.strip()\n",
    "    else:\n",
    "        return x\n",
    "\n",
    "\n",
    "def rtf_data_processing(df: pl.DataFrame) -> pl.DataFrame:\n",
    "    df = df.with_columns([\n",
    "        pl.when(pl.col('Year(s) Weapon of Order').str.contains(r'\\(.*\\)'))\n",
    "        .then(pl.lit(\"Yes\"))\n",
    "        .otherwise(pl.lit(\"No\"))\n",
    "        .alias(\"is estimated year order\")\n",
    "    ])\n",
    "\n",
    "    df = df.with_columns([\n",
    "        pl.col('Year(s) Weapon of Order').str.replace_all(r\"[()]\", \"\").alias('Year(s) Weapon of Order').cast(pl.Int64)\n",
    "    ])\n",
    "\n",
    "    return df\n",
    "\n",
    "\n",
    "def joined_table(df_rtf, csv_df):\n",
    "    processed_dF = rtf_data_processing(df_rtf)\n",
    "    # remove possible spaces for the designations\n",
    "    csv_df = csv_df.with_columns(csv_df['Designation'].str.strip())\n",
    "\n",
    "    processed_dF = processed_dF.with_columns(replace_unicode_chars(df_rtf, \"No. Designation\"))\n",
    "    processed_dF = processed_dF.with_columns(replace_unicode_chars(df_rtf, \"No. Comments\"))\n",
    "\n",
    "    joined_dF = csv_df.join(processed_dF,\n",
    "                        left_on=['Seller', 'Buyer',\n",
    "                                    'Designation', 'Order date',\n",
    "                                    ],\n",
    "                        right_on=[\"Supplier\", \"Recipient\",\n",
    "                                    \"No. Designation\", 'Year(s) Weapon of Order',\n",
    "                                    ],\n",
    "                        how=\"left\")\n",
    "    joined_dF = joined_dF.select(\n",
    "        ['Deal ID', 'Seller', 'Buyer', 'Designation', 'Description', 'Armament category', 'Order date',\n",
    "        'Order date is estimate', 'Numbers delivered', 'Numbers delivered is estimate', 'Delivery year',\n",
    "        'Delivery year is estimate', 'Status', 'SIPRI estimate', 'TIV deal unit', 'TIV delivery values',\n",
    "        'Local production', 'No. Comments'])\n",
    "\n",
    "    return joined_dF"
   ]
  },
  {
   "cell_type": "code",
   "execution_count": 14,
   "metadata": {},
   "outputs": [
    {
     "data": {
      "text/html": [
       "<div><style>\n",
       ".dataframe > thead > tr,\n",
       ".dataframe > tbody > tr {\n",
       "  text-align: right;\n",
       "  white-space: pre-wrap;\n",
       "}\n",
       "</style>\n",
       "<small>shape: (57_833, 17)</small><table border=\"1\" class=\"dataframe\"><thead><tr><th>Deal ID</th><th>Seller</th><th>Buyer</th><th>Designation</th><th>Description</th><th>Armament category</th><th>Order date</th><th>Order date is estimate</th><th>Numbers delivered</th><th>Numbers delivered is estimate</th><th>Delivery year</th><th>Delivery year is estimate</th><th>Status</th><th>SIPRI estimate</th><th>TIV deal unit</th><th>TIV delivery values</th><th>Local production</th></tr><tr><td>i64</td><td>str</td><td>str</td><td>str</td><td>str</td><td>str</td><td>i64</td><td>str</td><td>i64</td><td>str</td><td>i64</td><td>str</td><td>str</td><td>f64</td><td>f64</td><td>f64</td><td>str</td></tr></thead><tbody><tr><td>5787</td><td>&quot;United Kingdom&quot;</td><td>&quot;Jordan&quot;</td><td>&quot;Autocrat&quot;</td><td>&quot;light aircraft&quot;</td><td>&quot;Aircraft&quot;</td><td>1950</td><td>&quot;No&quot;</td><td>2</td><td>&quot;No&quot;</td><td>1950</td><td>&quot;No&quot;</td><td>&quot;New&quot;</td><td>0.12</td><td>0.12</td><td>0.24</td><td>&quot;No&quot;</td></tr><tr><td>5989</td><td>&quot;Canada&quot;</td><td>&quot;Lebanon&quot;</td><td>&quot;DHC-1 Chipmunk&quot;</td><td>&quot;trainer aircraft&quot;</td><td>&quot;Aircraft&quot;</td><td>1949</td><td>&quot;Yes&quot;</td><td>3</td><td>&quot;No&quot;</td><td>1950</td><td>&quot;No&quot;</td><td>&quot;New&quot;</td><td>0.12</td><td>0.12</td><td>0.36</td><td>&quot;No&quot;</td></tr><tr><td>5266</td><td>&quot;United Kingdom&quot;</td><td>&quot;India&quot;</td><td>&quot;Pig&quot;</td><td>&quot;APC/APV&quot;</td><td>&quot;Armoured vehicles&quot;</td><td>1948</td><td>&quot;Yes&quot;</td><td>120</td><td>&quot;Yes&quot;</td><td>1950</td><td>&quot;No&quot;</td><td>&quot;Second hand&quot;</td><td>0.12</td><td>0.048</td><td>5.76</td><td>&quot;No&quot;</td></tr><tr><td>5330</td><td>&quot;Netherlands&quot;</td><td>&quot;Indonesia&quot;</td><td>&quot;PBY-5A Catalina&quot;</td><td>&quot;maritime patrol aircraft&quot;</td><td>&quot;Aircraft&quot;</td><td>1950</td><td>&quot;Yes&quot;</td><td>8</td><td>&quot;Yes&quot;</td><td>1950</td><td>&quot;No&quot;</td><td>&quot;Second hand&quot;</td><td>3.1</td><td>1.24</td><td>9.92</td><td>&quot;No&quot;</td></tr><tr><td>5862</td><td>&quot;Soviet Union&quot;</td><td>&quot;North Korea&quot;</td><td>&quot;BTR-152&quot;</td><td>&quot;APC&quot;</td><td>&quot;Armoured vehicles&quot;</td><td>1949</td><td>&quot;Yes&quot;</td><td>15</td><td>&quot;Yes&quot;</td><td>1950</td><td>&quot;Yes&quot;</td><td>&quot;New&quot;</td><td>0.13</td><td>0.13</td><td>1.95</td><td>&quot;No&quot;</td></tr><tr><td>&hellip;</td><td>&hellip;</td><td>&hellip;</td><td>&hellip;</td><td>&hellip;</td><td>&hellip;</td><td>&hellip;</td><td>&hellip;</td><td>&hellip;</td><td>&hellip;</td><td>&hellip;</td><td>&hellip;</td><td>&hellip;</td><td>&hellip;</td><td>&hellip;</td><td>&hellip;</td><td>&hellip;</td></tr><tr><td>65380</td><td>&quot;United States&quot;</td><td>&quot;Russia&quot;</td><td>&quot;vehicle engine&quot;</td><td>&quot;vehicle engine&quot;</td><td>&quot;Engines&quot;</td><td>2018</td><td>&quot;Yes&quot;</td><td>25</td><td>&quot;Yes&quot;</td><td>2022</td><td>&quot;No&quot;</td><td>&quot;New&quot;</td><td>0.05</td><td>0.05</td><td>1.25</td><td>&quot;Yes&quot;</td></tr><tr><td>66303</td><td>&quot;Turkiye&quot;</td><td>&quot;Burkina Faso&quot;</td><td>&quot;Ejder&quot;</td><td>&quot;APC&quot;</td><td>&quot;Armoured vehicles&quot;</td><td>2022</td><td>&quot;Yes&quot;</td><td>4</td><td>&quot;Yes&quot;</td><td>2022</td><td>&quot;No&quot;</td><td>&quot;New&quot;</td><td>0.3</td><td>0.3</td><td>1.2</td><td>&quot;No&quot;</td></tr><tr><td>66305</td><td>&quot;China&quot;</td><td>&quot;Benin&quot;</td><td>&quot;CSK-131&quot;</td><td>&quot;APC/APV&quot;</td><td>&quot;Armoured vehicles&quot;</td><td>2022</td><td>&quot;Yes&quot;</td><td>6</td><td>&quot;Yes&quot;</td><td>2022</td><td>&quot;Yes&quot;</td><td>&quot;New&quot;</td><td>0.14</td><td>0.14</td><td>0.84</td><td>&quot;No&quot;</td></tr><tr><td>24935</td><td>&quot;China&quot;</td><td>&quot;Nigeria&quot;</td><td>&quot;PC 46m&quot;</td><td>&quot;patrol craft&quot;</td><td>&quot;Ships&quot;</td><td>2022</td><td>&quot;Yes&quot;</td><td>1</td><td>&quot;No&quot;</td><td>2022</td><td>&quot;No&quot;</td><td>&quot;New&quot;</td><td>7.5</td><td>7.5</td><td>7.5</td><td>&quot;No&quot;</td></tr><tr><td>66307</td><td>&quot;Belarus&quot;</td><td>&quot;Angola&quot;</td><td>&quot;Kaiman&quot;</td><td>&quot;APV&quot;</td><td>&quot;Armoured vehicles&quot;</td><td>2021</td><td>&quot;Yes&quot;</td><td>5</td><td>&quot;Yes&quot;</td><td>2022</td><td>&quot;Yes&quot;</td><td>&quot;New&quot;</td><td>0.16</td><td>0.16</td><td>0.8</td><td>&quot;No&quot;</td></tr></tbody></table></div>"
      ],
      "text/plain": [
       "shape: (57_833, 17)\n",
       "┌─────────┬────────────┬───────────┬───────────┬───┬───────────┬───────────┬───────────┬───────────┐\n",
       "│ Deal ID ┆ Seller     ┆ Buyer     ┆ Designati ┆ … ┆ SIPRI     ┆ TIV deal  ┆ TIV       ┆ Local pro │\n",
       "│ ---     ┆ ---        ┆ ---       ┆ on        ┆   ┆ estimate  ┆ unit      ┆ delivery  ┆ duction   │\n",
       "│ i64     ┆ str        ┆ str       ┆ ---       ┆   ┆ ---       ┆ ---       ┆ values    ┆ ---       │\n",
       "│         ┆            ┆           ┆ str       ┆   ┆ f64       ┆ f64       ┆ ---       ┆ str       │\n",
       "│         ┆            ┆           ┆           ┆   ┆           ┆           ┆ f64       ┆           │\n",
       "╞═════════╪════════════╪═══════════╪═══════════╪═══╪═══════════╪═══════════╪═══════════╪═══════════╡\n",
       "│ 5787    ┆ United     ┆ Jordan    ┆ Autocrat  ┆ … ┆ 0.12      ┆ 0.12      ┆ 0.24      ┆ No        │\n",
       "│         ┆ Kingdom    ┆           ┆           ┆   ┆           ┆           ┆           ┆           │\n",
       "│ 5989    ┆ Canada     ┆ Lebanon   ┆ DHC-1     ┆ … ┆ 0.12      ┆ 0.12      ┆ 0.36      ┆ No        │\n",
       "│         ┆            ┆           ┆ Chipmunk  ┆   ┆           ┆           ┆           ┆           │\n",
       "│ 5266    ┆ United     ┆ India     ┆ Pig       ┆ … ┆ 0.12      ┆ 0.048     ┆ 5.76      ┆ No        │\n",
       "│         ┆ Kingdom    ┆           ┆           ┆   ┆           ┆           ┆           ┆           │\n",
       "│ 5330    ┆ Netherland ┆ Indonesia ┆ PBY-5A    ┆ … ┆ 3.1       ┆ 1.24      ┆ 9.92      ┆ No        │\n",
       "│         ┆ s          ┆           ┆ Catalina  ┆   ┆           ┆           ┆           ┆           │\n",
       "│ 5862    ┆ Soviet     ┆ North     ┆ BTR-152   ┆ … ┆ 0.13      ┆ 0.13      ┆ 1.95      ┆ No        │\n",
       "│         ┆ Union      ┆ Korea     ┆           ┆   ┆           ┆           ┆           ┆           │\n",
       "│ …       ┆ …          ┆ …         ┆ …         ┆ … ┆ …         ┆ …         ┆ …         ┆ …         │\n",
       "│ 65380   ┆ United     ┆ Russia    ┆ vehicle   ┆ … ┆ 0.05      ┆ 0.05      ┆ 1.25      ┆ Yes       │\n",
       "│         ┆ States     ┆           ┆ engine    ┆   ┆           ┆           ┆           ┆           │\n",
       "│ 66303   ┆ Turkiye    ┆ Burkina   ┆ Ejder     ┆ … ┆ 0.3       ┆ 0.3       ┆ 1.2       ┆ No        │\n",
       "│         ┆            ┆ Faso      ┆           ┆   ┆           ┆           ┆           ┆           │\n",
       "│ 66305   ┆ China      ┆ Benin     ┆ CSK-131   ┆ … ┆ 0.14      ┆ 0.14      ┆ 0.84      ┆ No        │\n",
       "│ 24935   ┆ China      ┆ Nigeria   ┆ PC 46m    ┆ … ┆ 7.5       ┆ 7.5       ┆ 7.5       ┆ No        │\n",
       "│ 66307   ┆ Belarus    ┆ Angola    ┆ Kaiman    ┆ … ┆ 0.16      ┆ 0.16      ┆ 0.8       ┆ No        │\n",
       "└─────────┴────────────┴───────────┴───────────┴───┴───────────┴───────────┴───────────┴───────────┘"
      ]
     },
     "execution_count": 14,
     "metadata": {},
     "output_type": "execute_result"
    }
   ],
   "source": [
    "file_name = \"DealsAndTIVs-2023-03-11-16_22_41 (1).txt\"\n",
    "file_name_ = \"data.txt\"\n",
    "df = read_csv_data(file_name)\n",
    "df_ = read_csv_data(file_name_)\n",
    "df_\n"
   ]
  },
  {
   "cell_type": "code",
   "execution_count": 15,
   "metadata": {},
   "outputs": [
    {
     "data": {
      "text/html": [
       "<div><style>\n",
       ".dataframe > thead > tr,\n",
       ".dataframe > tbody > tr {\n",
       "  text-align: right;\n",
       "  white-space: pre-wrap;\n",
       "}\n",
       "</style>\n",
       "<small>shape: (10_126, 17)</small><table border=\"1\" class=\"dataframe\"><thead><tr><th>Deal ID</th><th>Seller</th><th>Buyer</th><th>Designation</th><th>Description</th><th>Armament category</th><th>Order date</th><th>Order date is estimate</th><th>Numbers delivered</th><th>Numbers delivered is estimate</th><th>Delivery year</th><th>Delivery year is estimate</th><th>Status</th><th>SIPRI estimate</th><th>TIV deal unit</th><th>TIV delivery values</th><th>Local production</th></tr><tr><td>i64</td><td>str</td><td>str</td><td>str</td><td>str</td><td>str</td><td>i64</td><td>str</td><td>i64</td><td>str</td><td>i64</td><td>str</td><td>str</td><td>f64</td><td>f64</td><td>f64</td><td>str</td></tr></thead><tbody><tr><td>36470</td><td>&quot;Norway&quot;</td><td>&quot;Poland&quot;</td><td>&quot;NSM&quot;</td><td>&quot;anti-ship missile&quot;</td><td>&quot;Missiles&quot;</td><td>2008</td><td>&quot;No&quot;</td><td>6</td><td>&quot;Yes&quot;</td><td>2011</td><td>&quot;Yes&quot;</td><td>&quot;New&quot;</td><td>1.0</td><td>1.0</td><td>6.0</td><td>&quot;No&quot;</td></tr><tr><td>53062</td><td>&quot;Russia&quot;</td><td>&quot;Iran&quot;</td><td>&quot;BMP-2 turret&quot;</td><td>&quot;IFV turret&quot;</td><td>&quot;Other&quot;</td><td>1999</td><td>&quot;Yes&quot;</td><td>10</td><td>&quot;Yes&quot;</td><td>2011</td><td>&quot;Yes&quot;</td><td>&quot;New&quot;</td><td>0.55</td><td>0.55</td><td>5.5</td><td>&quot;No&quot;</td></tr><tr><td>35553</td><td>&quot;China&quot;</td><td>&quot;Iran&quot;</td><td>&quot;C-704&quot;</td><td>&quot;anti-ship missile&quot;</td><td>&quot;Missiles&quot;</td><td>2003</td><td>&quot;Yes&quot;</td><td>25</td><td>&quot;Yes&quot;</td><td>2011</td><td>&quot;Yes&quot;</td><td>&quot;New&quot;</td><td>0.6</td><td>0.6</td><td>15.0</td><td>&quot;Yes&quot;</td></tr><tr><td>33703</td><td>&quot;United States&quot;</td><td>&quot;Pakistan&quot;</td><td>&quot;Perry&quot;</td><td>&quot;frigate&quot;</td><td>&quot;Ships&quot;</td><td>2010</td><td>&quot;No&quot;</td><td>1</td><td>&quot;No&quot;</td><td>2011</td><td>&quot;No&quot;</td><td>&quot;Second hand but modernized&quot;</td><td>300.0</td><td>198.0</td><td>198.0</td><td>&quot;No&quot;</td></tr><tr><td>31710</td><td>&quot;Spain&quot;</td><td>&quot;Venezuela&quot;</td><td>&quot;POVZEE&quot;</td><td>&quot;OPV&quot;</td><td>&quot;Ships&quot;</td><td>2005</td><td>&quot;No&quot;</td><td>3</td><td>&quot;No&quot;</td><td>2011</td><td>&quot;No&quot;</td><td>&quot;New&quot;</td><td>54.75</td><td>54.75</td><td>164.25</td><td>&quot;No&quot;</td></tr><tr><td>&hellip;</td><td>&hellip;</td><td>&hellip;</td><td>&hellip;</td><td>&hellip;</td><td>&hellip;</td><td>&hellip;</td><td>&hellip;</td><td>&hellip;</td><td>&hellip;</td><td>&hellip;</td><td>&hellip;</td><td>&hellip;</td><td>&hellip;</td><td>&hellip;</td><td>&hellip;</td><td>&hellip;</td></tr><tr><td>65208</td><td>&quot;China&quot;</td><td>&quot;Egypt&quot;</td><td>&quot;TL-2&quot;</td><td>&quot;anti-ship missile/ASM&quot;</td><td>&quot;Missiles&quot;</td><td>2016</td><td>&quot;Yes&quot;</td><td>50</td><td>&quot;Yes&quot;</td><td>2016</td><td>&quot;Yes&quot;</td><td>&quot;New&quot;</td><td>0.04</td><td>0.04</td><td>2.0</td><td>&quot;No&quot;</td></tr><tr><td>65208</td><td>&quot;China&quot;</td><td>&quot;Egypt&quot;</td><td>&quot;TL-2&quot;</td><td>&quot;anti-ship missile/ASM&quot;</td><td>&quot;Missiles&quot;</td><td>2016</td><td>&quot;Yes&quot;</td><td>75</td><td>&quot;Yes&quot;</td><td>2017</td><td>&quot;Yes&quot;</td><td>&quot;New&quot;</td><td>0.04</td><td>0.04</td><td>3.0</td><td>&quot;No&quot;</td></tr><tr><td>65208</td><td>&quot;China&quot;</td><td>&quot;Egypt&quot;</td><td>&quot;TL-2&quot;</td><td>&quot;anti-ship missile/ASM&quot;</td><td>&quot;Missiles&quot;</td><td>2016</td><td>&quot;Yes&quot;</td><td>75</td><td>&quot;Yes&quot;</td><td>2018</td><td>&quot;Yes&quot;</td><td>&quot;New&quot;</td><td>0.04</td><td>0.04</td><td>3.0</td><td>&quot;No&quot;</td></tr><tr><td>null</td><td>null</td><td>null</td><td>null</td><td>null</td><td>null</td><td>null</td><td>null</td><td>null</td><td>null</td><td>null</td><td>null</td><td>null</td><td>null</td><td>null</td><td>null</td><td>null</td></tr><tr><td>null</td><td>null</td><td>null</td><td>null</td><td>null</td><td>null</td><td>null</td><td>null</td><td>null</td><td>null</td><td>null</td><td>null</td><td>null</td><td>null</td><td>null</td><td>null</td><td>null</td></tr></tbody></table></div>"
      ],
      "text/plain": [
       "shape: (10_126, 17)\n",
       "┌─────────┬────────┬───────────┬────────────┬───┬────────────┬────────────┬────────────┬───────────┐\n",
       "│ Deal ID ┆ Seller ┆ Buyer     ┆ Designatio ┆ … ┆ SIPRI      ┆ TIV deal   ┆ TIV        ┆ Local pro │\n",
       "│ ---     ┆ ---    ┆ ---       ┆ n          ┆   ┆ estimate   ┆ unit       ┆ delivery   ┆ duction   │\n",
       "│ i64     ┆ str    ┆ str       ┆ ---        ┆   ┆ ---        ┆ ---        ┆ values     ┆ ---       │\n",
       "│         ┆        ┆           ┆ str        ┆   ┆ f64        ┆ f64        ┆ ---        ┆ str       │\n",
       "│         ┆        ┆           ┆            ┆   ┆            ┆            ┆ f64        ┆           │\n",
       "╞═════════╪════════╪═══════════╪════════════╪═══╪════════════╪════════════╪════════════╪═══════════╡\n",
       "│ 36470   ┆ Norway ┆ Poland    ┆ NSM        ┆ … ┆ 1.0        ┆ 1.0        ┆ 6.0        ┆ No        │\n",
       "│ 53062   ┆ Russia ┆ Iran      ┆ BMP-2      ┆ … ┆ 0.55       ┆ 0.55       ┆ 5.5        ┆ No        │\n",
       "│         ┆        ┆           ┆ turret     ┆   ┆            ┆            ┆            ┆           │\n",
       "│ 35553   ┆ China  ┆ Iran      ┆ C-704      ┆ … ┆ 0.6        ┆ 0.6        ┆ 15.0       ┆ Yes       │\n",
       "│ 33703   ┆ United ┆ Pakistan  ┆ Perry      ┆ … ┆ 300.0      ┆ 198.0      ┆ 198.0      ┆ No        │\n",
       "│         ┆ States ┆           ┆            ┆   ┆            ┆            ┆            ┆           │\n",
       "│ 31710   ┆ Spain  ┆ Venezuela ┆ POVZEE     ┆ … ┆ 54.75      ┆ 54.75      ┆ 164.25     ┆ No        │\n",
       "│ …       ┆ …      ┆ …         ┆ …          ┆ … ┆ …          ┆ …          ┆ …          ┆ …         │\n",
       "│ 65208   ┆ China  ┆ Egypt     ┆ TL-2       ┆ … ┆ 0.04       ┆ 0.04       ┆ 2.0        ┆ No        │\n",
       "│ 65208   ┆ China  ┆ Egypt     ┆ TL-2       ┆ … ┆ 0.04       ┆ 0.04       ┆ 3.0        ┆ No        │\n",
       "│ 65208   ┆ China  ┆ Egypt     ┆ TL-2       ┆ … ┆ 0.04       ┆ 0.04       ┆ 3.0        ┆ No        │\n",
       "│ null    ┆ null   ┆ null      ┆ null       ┆ … ┆ null       ┆ null       ┆ null       ┆ null      │\n",
       "│ null    ┆ null   ┆ null      ┆ null       ┆ … ┆ null       ┆ null       ┆ null       ┆ null      │\n",
       "└─────────┴────────┴───────────┴────────────┴───┴────────────┴────────────┴────────────┴───────────┘"
      ]
     },
     "execution_count": 15,
     "metadata": {},
     "output_type": "execute_result"
    }
   ],
   "source": [
    "df"
   ]
  }
 ],
 "metadata": {
  "kernelspec": {
   "display_name": "Python 3",
   "language": "python",
   "name": "python3"
  },
  "language_info": {
   "codemirror_mode": {
    "name": "ipython",
    "version": 3
   },
   "file_extension": ".py",
   "mimetype": "text/x-python",
   "name": "python",
   "nbconvert_exporter": "python",
   "pygments_lexer": "ipython3",
   "version": "3.13.0"
  }
 },
 "nbformat": 4,
 "nbformat_minor": 2
}
